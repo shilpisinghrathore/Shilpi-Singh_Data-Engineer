{
 "cells": [
  {
   "cell_type": "code",
   "execution_count": 5,
   "id": "a97443af",
   "metadata": {},
   "outputs": [
    {
     "name": "stdout",
     "output_type": "stream",
     "text": [
      "No download URL found for file_type=DLTINS\n"
     ]
    }
   ],
   "source": [
    "import requests\n",
    "import xmltodict\n",
    "import zipfile\n",
    "import io\n",
    "import pandas as pd\n",
    "import boto3\n",
    "\n",
    "# Step 1: Download the XML file\n",
    "url = 'https://registers.esma.europa.eu/solr/esma_registers_firds_files/select?q=*&fq=publication_date:%5B2022-01-01T00:00:00Z+TO+2022-01-31T23:59:59Z%5D&wt=xml&indent=true&start=0&rows=100'\n",
    "response = requests.get(url)\n",
    "\n",
    "# Step 2: Parse through the XML file to find the first download link with file_type=DLTINS\n",
    "xml_data = xmltodict.parse(response.content)\n",
    "download_links = xml_data['response']['result']['doc']\n",
    "download_url = None\n",
    "for link in download_links:\n",
    "    if 'file_type' in link and link['file_type'] == 'DLTINS':\n",
    "        download_url = link['download_link']\n",
    "        break\n",
    "\n",
    "if download_url is not None:\n",
    "    # Step 3: Download the zip file and extract the XML file\n",
    "    response = requests.get(download_url)\n",
    "    zip_data = zipfile.ZipFile(io.BytesIO(response.content))\n",
    "    xml_file = zip_data.read(zip_data.namelist()[0])\n",
    "\n",
    "    # Step 4: Convert the XML file to CSV\n",
    "    xml_dict = xmltodict.parse(xml_file)\n",
    "    data = xml_dict['message']['TrdCaptRpt']['Instrmt']\n",
    "    df = pd.json_normalize(data)\n",
    "    df = df[['FinInstrmGnlAttrbts.Id', 'FinInstrmGnlAttrbts.FullNm', 'FinInstrmGnlAttrbts.ClssfctnTp',\n",
    "             'FinInstrmGnlAttrbts.CmmdtyDerivInd', 'FinInstrmGnlAttrbts.NtnlCcy', 'Issr']]\n",
    "\n",
    "    # Step 5: Upload the CSV to AWS S3\n",
    "    bucket_name = '<YOUR_BUCKET_NAME>'\n",
    "    csv_buffer = io.StringIO()\n",
    "    df.to_csv(csv_buffer, index=False)\n",
    "    s3 = boto3.resource('s3')\n",
    "    s3.Object(bucket_name, 'data.csv').put(Body=csv_buffer.getvalue())\n",
    "else:\n",
    "    print('No download URL found for file_type=DLTINS')\n"
   ]
  },
  {
   "cell_type": "code",
   "execution_count": null,
   "id": "661dd524",
   "metadata": {},
   "outputs": [],
   "source": []
  }
 ],
 "metadata": {
  "kernelspec": {
   "display_name": "Python 3 (ipykernel)",
   "language": "python",
   "name": "python3"
  },
  "language_info": {
   "codemirror_mode": {
    "name": "ipython",
    "version": 3
   },
   "file_extension": ".py",
   "mimetype": "text/x-python",
   "name": "python",
   "nbconvert_exporter": "python",
   "pygments_lexer": "ipython3",
   "version": "3.9.7"
  }
 },
 "nbformat": 4,
 "nbformat_minor": 5
}
